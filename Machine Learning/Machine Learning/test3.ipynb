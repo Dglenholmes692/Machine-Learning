{
 "cells": [
  {
   "cell_type": "code",
   "execution_count": 13,
   "metadata": {},
   "outputs": [],
   "source": [
    "import pandas as pd\n",
    "import matplotlib.pyplot as plt\n",
    "\n",
    "df = pd.read_csv(\"cost-of-living.csv\")\n",
    "\n",
    "Cost_path_file = \"cost-of-living.csv\"\n",
    "Cost_data = pd.read_csv(Cost_path_file, encoding=\"utf-8\")\n",
    "Cost_data.describe()\n",
    "\n",
    "######\n",
    "\n",
    "Cost_data.columns\n",
    "\n",
    "\n",
    "df = pd.DataFrame(Cost_data)\n",
    "# df.head()\n",
    "# df.tail()\n",
    "\n",
    "# df.shape\n",
    "\n",
    "plt.show()\n",
    "\n"
   ]
  }
 ],
 "metadata": {
  "kernelspec": {
   "display_name": "Python 3.10.0rc2 64-bit",
   "language": "python",
   "name": "python3"
  },
  "language_info": {
   "codemirror_mode": {
    "name": "ipython",
    "version": 3
   },
   "file_extension": ".py",
   "mimetype": "text/x-python",
   "name": "python",
   "nbconvert_exporter": "python",
   "pygments_lexer": "ipython3",
   "version": "3.10.0rc2"
  },
  "orig_nbformat": 4,
  "vscode": {
   "interpreter": {
    "hash": "3bff23766d9588e2817cda16f76ce778b4c874bc4d79dd46d02d1306a0797a4f"
   }
  }
 },
 "nbformat": 4,
 "nbformat_minor": 2
}
